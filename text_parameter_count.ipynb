{
 "cells": [
  {
   "cell_type": "code",
   "execution_count": 1,
   "id": "f7ce8f21-00ba-4adf-abf2-8e039dfe9e87",
   "metadata": {},
   "outputs": [
    {
     "name": "stdout",
     "output_type": "stream",
     "text": [
      "/home/yixiuz/md4\n"
     ]
    },
    {
     "name": "stderr",
     "output_type": "stream",
     "text": [
      "/home/yixiuz/md4_venv/lib/python3.12/site-packages/IPython/core/magics/osm.py:393: UserWarning: This is now an optional IPython functionality, using bookmarks requires you to install the `pickleshare` library.\n",
      "  bkms = self.shell.db.get('bookmarks', {})\n",
      "/home/yixiuz/md4_venv/lib/python3.12/site-packages/IPython/core/magics/osm.py:417: UserWarning: This is now an optional IPython functionality, setting dhist requires you to install the `pickleshare` library.\n",
      "  self.shell.db['dhist'] = compress_dhist(dhist)[-100:]\n"
     ]
    }
   ],
   "source": [
    "%cd ~/md4\n",
    "import jax\n",
    "import jax.numpy as jnp\n",
    "import jax.random as jr\n",
    "\n",
    "from importlib import reload\n",
    "from md4.networks.transformer import Transformer\n",
    "from md4.networks.transformer import ModelArgs\n",
    "from md4.networks.hollow_transformer import HollowTransformer\n",
    "from md4.networks.hollow_transformer import ModelArgs as HollowModelArgs\n",
    "\n",
    "key_0 = jr.PRNGKey(0)"
   ]
  },
  {
   "cell_type": "code",
   "execution_count": 2,
   "id": "83c9993b-094a-4c4a-b2c9-340e617f3d0a",
   "metadata": {},
   "outputs": [],
   "source": [
    "# Function to count parameters in a frozen dict\n",
    "def count_parameters(frozen_dict):\n",
    "    total_params = 0\n",
    "    for value in frozen_dict.values():\n",
    "        if isinstance(value, dict):  # If it's a nested dict\n",
    "            total_params += count_parameters(value)\n",
    "        else:  # It's an array\n",
    "            total_params += value.size\n",
    "    return total_params"
   ]
  },
  {
   "cell_type": "code",
   "execution_count": 3,
   "id": "3bb15400-f4d4-4af8-9e06-36cda6d9d9f5",
   "metadata": {},
   "outputs": [],
   "source": [
    "feature_dim = 64\n",
    "# This uses outside_embed with feature dim = 64\n",
    "dummy_input = jnp.ones((64, 256, feature_dim))\n",
    "cond = jnp.ones((64, feature_dim))"
   ]
  },
  {
   "cell_type": "code",
   "execution_count": 4,
   "id": "75ba30ab-8c40-41af-96b7-3fa9a211c3df",
   "metadata": {},
   "outputs": [],
   "source": [
    "args = ModelArgs(dim=768,\n",
    "          n_layers=12,\n",
    "          n_heads=12,\n",
    "          n_kv_heads=12,\n",
    "          output_channels=27,\n",
    "          hidden_dim=None,\n",
    "          multiple_of=32,\n",
    "          norm_eps=1e-05,\n",
    "          dropout_rate=0.0,\n",
    "          weight_tying=False,\n",
    "          w_init_scale=1.0,\n",
    "          depth_scaled_init=True,\n",
    "          mlp_type='glu',\n",
    "          cond_type='adaln_zero',\n",
    "          embed_input=False,\n",
    "          n_embed_classes=28,\n",
    "          causal=False)\n",
    "text8_transformer = Transformer(args)"
   ]
  },
  {
   "cell_type": "code",
   "execution_count": 5,
   "id": "84f5cf8f-6fe4-4524-a676-2633e8adaa32",
   "metadata": {},
   "outputs": [],
   "source": [
    "# Initialize the transformer\n",
    "\n",
    "params = text8_transformer.init(key_0, dummy_input, cond=cond, train=False)"
   ]
  },
  {
   "cell_type": "code",
   "execution_count": 6,
   "id": "12b9573f-3808-4dc5-aafd-9a6525f3af19",
   "metadata": {},
   "outputs": [
    {
     "data": {
      "text/plain": [
       "88699392"
      ]
     },
     "execution_count": 6,
     "metadata": {},
     "output_type": "execute_result"
    }
   ],
   "source": [
    "count_parameters(params) # 85024512 = 85M"
   ]
  },
  {
   "cell_type": "code",
   "execution_count": 19,
   "id": "4dc2e097-3b35-4329-a88d-f054be935f1b",
   "metadata": {},
   "outputs": [],
   "source": [
    "args = HollowModelArgs(dim=768,\n",
    "          n_layers=12,\n",
    "          n_heads=12,\n",
    "          n_kv_heads=12,\n",
    "          output_channels=27,\n",
    "          # manually set hidden dim\n",
    "          hidden_dim=2048, # 32 * 36\n",
    "          multiple_of=32,\n",
    "          norm_eps=1e-05,\n",
    "          dropout_rate=0.0,\n",
    "          weight_tying=False,\n",
    "          w_init_scale=1.0,\n",
    "          depth_scaled_init=True,\n",
    "          mlp_type='glu',\n",
    "          cond_type='adaln_zero',\n",
    "          embed_input=False,\n",
    "          n_embed_classes=28,\n",
    "          causal=False,\n",
    "          n_layers_per_mixed=12)\n",
    "\n",
    "# ModelArgs(dim=768,\n",
    "#           n_layers=12,\n",
    "#           n_heads=12,\n",
    "#           n_kv_heads=12,\n",
    "#           output_channels=27,\n",
    "#           hidden_dim=1152,\n",
    "#           multiple_of=32,\n",
    "#           norm_eps=1e-05,\n",
    "#           dropout_rate=0.0,\n",
    "#           weight_tying=False,\n",
    "#           w_init_scale=1.0,\n",
    "#           depth_scaled_init=True,\n",
    "#           mlp_type='glu',\n",
    "#           cond_type='adaln_zero',\n",
    "#           embed_input=False,\n",
    "#           n_embed_classes=28,\n",
    "#           causal=False,\n",
    "#           n_layers_per_mixed=6)\n",
    "text8_hollow_transformer = HollowTransformer(args)"
   ]
  },
  {
   "cell_type": "code",
   "execution_count": 20,
   "id": "b524c95f-0846-48fd-a254-54001262ab4c",
   "metadata": {},
   "outputs": [],
   "source": [
    "# This uses outside_embed with feature dim = 64\n",
    "dummy_input = jnp.ones((64, 256, feature_dim))\n",
    "params = text8_hollow_transformer.init(key_0, dummy_input, cond=None, train=False)"
   ]
  },
  {
   "cell_type": "code",
   "execution_count": 21,
   "id": "728f82fb-21ba-4fa3-89d0-b02911316c68",
   "metadata": {},
   "outputs": [
    {
     "data": {
      "text/plain": [
       "101574144"
      ]
     },
     "execution_count": 21,
     "metadata": {},
     "output_type": "execute_result"
    }
   ],
   "source": [
    "count_parameters(params) # 85024512 = 85M"
   ]
  },
  {
   "cell_type": "code",
   "execution_count": null,
   "id": "94b55a31-d132-4d41-bc6f-f22229b5539d",
   "metadata": {},
   "outputs": [],
   "source": []
  }
 ],
 "metadata": {
  "kernelspec": {
   "display_name": "Python (md4)",
   "language": "python",
   "name": "md4"
  },
  "language_info": {
   "codemirror_mode": {
    "name": "ipython",
    "version": 3
   },
   "file_extension": ".py",
   "mimetype": "text/x-python",
   "name": "python",
   "nbconvert_exporter": "python",
   "pygments_lexer": "ipython3",
   "version": "3.12.2"
  }
 },
 "nbformat": 4,
 "nbformat_minor": 5
}
