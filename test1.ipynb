{
 "cells": [
  {
   "cell_type": "code",
   "execution_count": 2,
   "metadata": {},
   "outputs": [
    {
     "name": "stderr",
     "output_type": "stream",
     "text": [
      "2025-01-19 08:10:15.616418: E external/local_xla/xla/stream_executor/cuda/cuda_fft.cc:477] Unable to register cuFFT factory: Attempting to register factory for plugin cuFFT when one has already been registered\n",
      "WARNING: All log messages before absl::InitializeLog() is called are written to STDERR\n",
      "E0000 00:00:1737274215.634864 1945430 cuda_dnn.cc:8310] Unable to register cuDNN factory: Attempting to register factory for plugin cuDNN when one has already been registered\n",
      "E0000 00:00:1737274215.640477 1945430 cuda_blas.cc:1418] Unable to register cuBLAS factory: Attempting to register factory for plugin cuBLAS when one has already been registered\n"
     ]
    }
   ],
   "source": [
    "import grain.python as grain\n",
    "import tensorflow as tf"
   ]
  },
  {
   "cell_type": "code",
   "execution_count": 3,
   "metadata": {},
   "outputs": [],
   "source": [
    "d = grain.ArrayRecordDataSource(paths=\"./data_dir/openwebtext_splits_1024_train\")"
   ]
  },
  {
   "cell_type": "code",
   "execution_count": 4,
   "metadata": {},
   "outputs": [
    {
     "ename": "KeyboardInterrupt",
     "evalue": "",
     "output_type": "error",
     "traceback": [
      "\u001b[0;31m---------------------------------------------------------------------------\u001b[0m",
      "\u001b[0;31mKeyboardInterrupt\u001b[0m                         Traceback (most recent call last)",
      "Cell \u001b[0;32mIn[4], line 1\u001b[0m\n\u001b[0;32m----> 1\u001b[0m temp_list\u001b[38;5;241m=\u001b[39m[dd \u001b[38;5;28;01mfor\u001b[39;00m dd \u001b[38;5;129;01min\u001b[39;00m d]\n",
      "Cell \u001b[0;32mIn[4], line 1\u001b[0m, in \u001b[0;36m<listcomp>\u001b[0;34m(.0)\u001b[0m\n\u001b[0;32m----> 1\u001b[0m temp_list\u001b[38;5;241m=\u001b[39m[dd \u001b[38;5;28;01mfor\u001b[39;00m dd \u001b[38;5;129;01min\u001b[39;00m d]\n",
      "File \u001b[0;32m~/anaconda3/envs/md4-venv/lib/python3.10/site-packages/grain/_src/python/data_sources.py:85\u001b[0m, in \u001b[0;36mArrayRecordDataSource.__getitem__\u001b[0;34m(self, record_key)\u001b[0m\n\u001b[1;32m     84\u001b[0m \u001b[38;5;28;01mdef\u001b[39;00m\u001b[38;5;250m \u001b[39m\u001b[38;5;21m__getitem__\u001b[39m(\u001b[38;5;28mself\u001b[39m, record_key: SupportsIndex) \u001b[38;5;241m-\u001b[39m\u001b[38;5;241m>\u001b[39m \u001b[38;5;28mbytes\u001b[39m:\n\u001b[0;32m---> 85\u001b[0m   data \u001b[38;5;241m=\u001b[39m \u001b[38;5;28;43msuper\u001b[39;49m\u001b[43m(\u001b[49m\u001b[43m)\u001b[49m\u001b[38;5;241;43m.\u001b[39;49m\u001b[38;5;21;43m__getitem__\u001b[39;49m\u001b[43m(\u001b[49m\u001b[43mrecord_key\u001b[49m\u001b[43m)\u001b[49m\n\u001b[1;32m     86\u001b[0m   _bytes_read_counter\u001b[38;5;241m.\u001b[39mIncrementBy(\u001b[38;5;28mlen\u001b[39m(data), \u001b[38;5;124m\"\u001b[39m\u001b[38;5;124mArrayRecordDataSource\u001b[39m\u001b[38;5;124m\"\u001b[39m)\n\u001b[1;32m     87\u001b[0m   \u001b[38;5;28;01mreturn\u001b[39;00m data\n",
      "File \u001b[0;32m~/anaconda3/envs/md4-venv/lib/python3.10/site-packages/array_record/python/array_record_data_source.py:331\u001b[0m, in \u001b[0;36mArrayRecordDataSource.__getitem__\u001b[0;34m(self, record_key)\u001b[0m\n\u001b[1;32m    329\u001b[0m \u001b[38;5;28mself\u001b[39m\u001b[38;5;241m.\u001b[39m_ensure_reader_exists(reader_idx)\n\u001b[1;32m    330\u001b[0m \u001b[38;5;28;01mif\u001b[39;00m \u001b[38;5;28mhasattr\u001b[39m(\u001b[38;5;28mself\u001b[39m\u001b[38;5;241m.\u001b[39m_readers[reader_idx], \u001b[38;5;124m\"\u001b[39m\u001b[38;5;124mread\u001b[39m\u001b[38;5;124m\"\u001b[39m):\n\u001b[0;32m--> 331\u001b[0m   \u001b[38;5;28;01mreturn\u001b[39;00m \u001b[38;5;28;43mself\u001b[39;49m\u001b[38;5;241;43m.\u001b[39;49m\u001b[43m_readers\u001b[49m\u001b[43m[\u001b[49m\u001b[43mreader_idx\u001b[49m\u001b[43m]\u001b[49m\u001b[38;5;241;43m.\u001b[39;49m\u001b[43mread\u001b[49m\u001b[43m(\u001b[49m\u001b[43m[\u001b[49m\u001b[43mposition\u001b[49m\u001b[43m]\u001b[49m\u001b[43m)\u001b[49m[\u001b[38;5;241m0\u001b[39m]\n\u001b[1;32m    332\u001b[0m \u001b[38;5;28;01mreturn\u001b[39;00m \u001b[38;5;28mself\u001b[39m\u001b[38;5;241m.\u001b[39m_readers[reader_idx][position]\n",
      "\u001b[0;31mKeyboardInterrupt\u001b[0m: "
     ]
    }
   ],
   "source": [
    "temp_list = [dd for dd in d]"
   ]
  },
  {
   "cell_type": "code",
   "execution_count": null,
   "metadata": {},
   "outputs": [],
   "source": []
  },
  {
   "cell_type": "code",
   "execution_count": 31,
   "metadata": {},
   "outputs": [],
   "source": [
    "class ParseFeatures(grain.MapTransform):\n",
    "    \"\"\"Parse serialized example.\"\"\"\n",
    "\n",
    "    def __init__(self, data_column):\n",
    "        self.data_column = data_column\n",
    "\n",
    "    def map(self, features):\n",
    "        def _parse(example):\n",
    "            with tf.device(\"/CPU:0\"):\n",
    "                parsed = tf.io.parse_example(\n",
    "                    example,\n",
    "                    {\n",
    "                        self.data_column: tf.io.FixedLenSequenceFeature(\n",
    "                            [], dtype=tf.int64, allow_missing=True\n",
    "                        )\n",
    "                    },\n",
    "                )\n",
    "                return parsed\n",
    "\n",
    "        return _parse(features)"
   ]
  },
  {
   "cell_type": "code",
   "execution_count": null,
   "metadata": {},
   "outputs": [],
   "source": []
  },
  {
   "cell_type": "code",
   "execution_count": 34,
   "metadata": {},
   "outputs": [
    {
     "data": {
      "text/plain": [
       "b'\\n\\x8b\\x10\\n\\x88\\x10\\n\\x04text\\x12\\xff\\x0f\\x1a'"
      ]
     },
     "execution_count": 34,
     "metadata": {},
     "output_type": "execute_result"
    }
   ],
   "source": [
    "d[0][:16]"
   ]
  },
  {
   "cell_type": "code",
   "execution_count": 5,
   "metadata": {},
   "outputs": [
    {
     "name": "stderr",
     "output_type": "stream",
     "text": [
      "  0%|          | 107/8651618 [00:17<404:00:13,  5.95it/s]\n"
     ]
    },
    {
     "ename": "KeyboardInterrupt",
     "evalue": "",
     "output_type": "error",
     "traceback": [
      "\u001b[0;31m---------------------------------------------------------------------------\u001b[0m",
      "\u001b[0;31mKeyboardInterrupt\u001b[0m                         Traceback (most recent call last)",
      "Cell \u001b[0;32mIn[5], line 2\u001b[0m\n\u001b[1;32m      1\u001b[0m \u001b[38;5;28;01mfrom\u001b[39;00m\u001b[38;5;250m \u001b[39m\u001b[38;5;21;01mtqdm\u001b[39;00m\u001b[38;5;250m \u001b[39m\u001b[38;5;28;01mimport\u001b[39;00m tqdm\n\u001b[0;32m----> 2\u001b[0m \u001b[38;5;28;01mfor\u001b[39;00m dd \u001b[38;5;129;01min\u001b[39;00m tqdm(d):\n\u001b[1;32m      3\u001b[0m     \u001b[38;5;28;01mpass\u001b[39;00m\n",
      "File \u001b[0;32m~/anaconda3/envs/md4-venv/lib/python3.10/site-packages/tqdm/std.py:1181\u001b[0m, in \u001b[0;36mtqdm.__iter__\u001b[0;34m(self)\u001b[0m\n\u001b[1;32m   1178\u001b[0m time \u001b[38;5;241m=\u001b[39m \u001b[38;5;28mself\u001b[39m\u001b[38;5;241m.\u001b[39m_time\n\u001b[1;32m   1180\u001b[0m \u001b[38;5;28;01mtry\u001b[39;00m:\n\u001b[0;32m-> 1181\u001b[0m     \u001b[38;5;28;01mfor\u001b[39;00m obj \u001b[38;5;129;01min\u001b[39;00m iterable:\n\u001b[1;32m   1182\u001b[0m         \u001b[38;5;28;01myield\u001b[39;00m obj\n\u001b[1;32m   1183\u001b[0m         \u001b[38;5;66;03m# Update and possibly print the progressbar.\u001b[39;00m\n\u001b[1;32m   1184\u001b[0m         \u001b[38;5;66;03m# Note: does not call self.update(1) for speed optimisation.\u001b[39;00m\n",
      "File \u001b[0;32m~/anaconda3/envs/md4-venv/lib/python3.10/site-packages/grain/_src/python/data_sources.py:85\u001b[0m, in \u001b[0;36mArrayRecordDataSource.__getitem__\u001b[0;34m(self, record_key)\u001b[0m\n\u001b[1;32m     84\u001b[0m \u001b[38;5;28;01mdef\u001b[39;00m\u001b[38;5;250m \u001b[39m\u001b[38;5;21m__getitem__\u001b[39m(\u001b[38;5;28mself\u001b[39m, record_key: SupportsIndex) \u001b[38;5;241m-\u001b[39m\u001b[38;5;241m>\u001b[39m \u001b[38;5;28mbytes\u001b[39m:\n\u001b[0;32m---> 85\u001b[0m   data \u001b[38;5;241m=\u001b[39m \u001b[38;5;28;43msuper\u001b[39;49m\u001b[43m(\u001b[49m\u001b[43m)\u001b[49m\u001b[38;5;241;43m.\u001b[39;49m\u001b[38;5;21;43m__getitem__\u001b[39;49m\u001b[43m(\u001b[49m\u001b[43mrecord_key\u001b[49m\u001b[43m)\u001b[49m\n\u001b[1;32m     86\u001b[0m   _bytes_read_counter\u001b[38;5;241m.\u001b[39mIncrementBy(\u001b[38;5;28mlen\u001b[39m(data), \u001b[38;5;124m\"\u001b[39m\u001b[38;5;124mArrayRecordDataSource\u001b[39m\u001b[38;5;124m\"\u001b[39m)\n\u001b[1;32m     87\u001b[0m   \u001b[38;5;28;01mreturn\u001b[39;00m data\n",
      "File \u001b[0;32m~/anaconda3/envs/md4-venv/lib/python3.10/site-packages/array_record/python/array_record_data_source.py:331\u001b[0m, in \u001b[0;36mArrayRecordDataSource.__getitem__\u001b[0;34m(self, record_key)\u001b[0m\n\u001b[1;32m    329\u001b[0m \u001b[38;5;28mself\u001b[39m\u001b[38;5;241m.\u001b[39m_ensure_reader_exists(reader_idx)\n\u001b[1;32m    330\u001b[0m \u001b[38;5;28;01mif\u001b[39;00m \u001b[38;5;28mhasattr\u001b[39m(\u001b[38;5;28mself\u001b[39m\u001b[38;5;241m.\u001b[39m_readers[reader_idx], \u001b[38;5;124m\"\u001b[39m\u001b[38;5;124mread\u001b[39m\u001b[38;5;124m\"\u001b[39m):\n\u001b[0;32m--> 331\u001b[0m   \u001b[38;5;28;01mreturn\u001b[39;00m \u001b[38;5;28;43mself\u001b[39;49m\u001b[38;5;241;43m.\u001b[39;49m\u001b[43m_readers\u001b[49m\u001b[43m[\u001b[49m\u001b[43mreader_idx\u001b[49m\u001b[43m]\u001b[49m\u001b[38;5;241;43m.\u001b[39;49m\u001b[43mread\u001b[49m\u001b[43m(\u001b[49m\u001b[43m[\u001b[49m\u001b[43mposition\u001b[49m\u001b[43m]\u001b[49m\u001b[43m)\u001b[49m[\u001b[38;5;241m0\u001b[39m]\n\u001b[1;32m    332\u001b[0m \u001b[38;5;28;01mreturn\u001b[39;00m \u001b[38;5;28mself\u001b[39m\u001b[38;5;241m.\u001b[39m_readers[reader_idx][position]\n",
      "\u001b[0;31mKeyboardInterrupt\u001b[0m: "
     ]
    }
   ],
   "source": [
    "from tqdm import tqdm\n",
    "\n",
    "for dd in tqdm(d):\n",
    "    pass"
   ]
  },
  {
   "cell_type": "code",
   "execution_count": 9,
   "metadata": {},
   "outputs": [
    {
     "data": {
      "text/plain": [
       "numpy.uint16"
      ]
     },
     "execution_count": 9,
     "metadata": {},
     "output_type": "execute_result"
    }
   ],
   "source": [
    "import numpy as np\n",
    "\n",
    "np.uint16"
   ]
  },
  {
   "cell_type": "code",
   "execution_count": 12,
   "metadata": {},
   "outputs": [
    {
     "data": {
      "text/plain": [
       "8.192"
      ]
     },
     "execution_count": 12,
     "metadata": {},
     "output_type": "execute_result"
    }
   ],
   "source": [
    "1024 * 8_000_000 / 1_000_000_000"
   ]
  },
  {
   "cell_type": "code",
   "execution_count": 15,
   "metadata": {},
   "outputs": [
    {
     "data": {
      "text/plain": [
       "65536"
      ]
     },
     "execution_count": 15,
     "metadata": {},
     "output_type": "execute_result"
    }
   ],
   "source": [
    "2**16"
   ]
  },
  {
   "cell_type": "code",
   "execution_count": 16,
   "metadata": {},
   "outputs": [],
   "source": [
    "from transformers import GPT2Tokenizer\n",
    "\n",
    "tokenizer = GPT2Tokenizer.from_pretrained(\"gpt2\")"
   ]
  },
  {
   "cell_type": "code",
   "execution_count": 17,
   "metadata": {},
   "outputs": [
    {
     "data": {
      "text/plain": [
       "50257"
      ]
     },
     "execution_count": 17,
     "metadata": {},
     "output_type": "execute_result"
    }
   ],
   "source": [
    "tokenizer.vocab_size"
   ]
  },
  {
   "cell_type": "code",
   "execution_count": 7,
   "metadata": {},
   "outputs": [
    {
     "name": "stderr",
     "output_type": "stream",
     "text": [
      "2025-01-19 06:39:49.599940: E external/local_xla/xla/stream_executor/cuda/cuda_fft.cc:477] Unable to register cuFFT factory: Attempting to register factory for plugin cuFFT when one has already been registered\n",
      "WARNING: All log messages before absl::InitializeLog() is called are written to STDERR\n",
      "E0000 00:00:1737268789.618210 1933805 cuda_dnn.cc:8310] Unable to register cuDNN factory: Attempting to register factory for plugin cuDNN when one has already been registered\n",
      "E0000 00:00:1737268789.623715 1933805 cuda_blas.cc:1418] Unable to register cuBLAS factory: Attempting to register factory for plugin cuBLAS when one has already been registered\n"
     ]
    }
   ],
   "source": [
    "import tensorflow as tf"
   ]
  },
  {
   "cell_type": "code",
   "execution_count": 9,
   "metadata": {},
   "outputs": [
    {
     "data": {
      "text/plain": [
       "FixedLenSequenceFeature(shape=b'\\n\\x8b\\x10\\n\\x88\\x10\\n\\x04text\\x12\\xff\\x0f\\x1a\\xfc\\x0f\\n\\xf9\\x0f\\xdb\\x03\\xba\\x02\\xae\"\\xbf\\x03\\xf7\\x01S\\xef\\r\\xd4\\x02\\x89\\x03\\xd4\\x02\\xbf\\x03\\xf7\\x01R\\xdb\\t\\xe0\\r\\x9f\\x02\\x97\\x16\\xefU\\x89\\x03\\x87kR\\r\\xb6\\x10\\x0b\\xba\\x02\\xfc\\x06\\xf3\\x06\\xfc\\x03\\xa5\\x08\\xab\\x05\\xc9\\x02\\xea\\x0c\\xe9\\t\\x9e\\x02\\xd8\\x9c\\x02\\xd8\\x9c\\x02\\x85\\x03\\xbe\\n\\xdc\\x0e\\x9c\\x02\\x94\\x06\\xb4\\r\\x81\\x02\\xd0*\\x9e\\x02\\xd1\\x03\\r\\xf7\\x06\\xe4\\x04\\xe7\\x05\\xb3\\x02\\x85\\x04\\x95\\x05\\xcc$\\x9c\\x02\\xb7\\x0f\\xc7\\x19\\x95\\xa1\\x02\\xbf\\x03\\xf7\\x01R\\xfc\\x90\\x01\\xc35\\xc2\\x05\\x9b\"\\xd1\\x03\\xd3k\\xb4\\'\\xe5-\\r\\xc6\\x01\\xc6\\x01\\xce\\x0e\\xd3\\x02\\x9b\\x12\\xcc\\x04\\x81\\x02\\x98\\x1c\\xbc\\x1b\\r\\xea\\x07\\xd3\\x02\\xbf\\x03\\xf7\\x01R\\xda\\x0b\\x9c\\x02\\xb4\\xc0\\x01\\x84\\x05\\xba\\x02\\x887\\xbe\\x02\\xd1\\x03\\x82\\x07\\x99\\x04\\xae\\x12\\x0b\\xd3\\x02\\xbf\\x03\\xf7\\x01R\\x90\\x11\\xe9\\t\\x9c\\x02\\xf5?\\xf7\\x03\\xdf\\x02\\xa2\\x02\\x81\\x02\\x89y\\x98\\x08\\x0b\\xc4\\x8e\\x01\\xdf\\x02\\xe9\\x04\\xd8\\xeb\\x01\\xe0F\\r\\xd5\\x8b\\x01\\xcc\\x04\\xc7\\x19\\x95\\xa1\\x02\\x9b\\x12\\xcc\\x04\\x99\\x02\\xc4\\xe1\\x01\\xcf\\x11\\xdb\\x12\\r\\xf7\\x06\\x97\\x1e\\xba\\x02\\xbf\\x03\\xf7\\x01L\\xd2\\x14\\r\\xdb\\x0f\\xcd\\x05\\x97S\\x9e\\x02\\xd3\\xa6\\x01\\xf5\\x02\\xd2\\x14\\x0b\\xc2\\x05\\xb7\\x03\\r\\xf7\\x06\\xba\\x02\\xbf\\x03\\xf7\\x01C\\xf5?\\xf7\\x03\\xdf\\x02\\xd3\\xa6\\x01\\r\\xba\\x02\\xef$\\xba\\x02\\xb1\\x04\\xdf\\x02\\xc7\\x19\\r\\xc6\\x01\\xc6\\x01(\\xbf\\x03\\xf7\\x01L\\xcc$\\x9c\\x02\\xcf\\x0b\\xe8\\x04\\xd0\\x0f\\xbf\\x02\\xac\\x03\\r\\xdd\\x10\\xd9\\x02\\xfc\\x06\\xd4\\x02\\xbf\\x03\\xf7\\x01R\\xb5:\\x9c\\x02\\xb3\\x02\\x81\\x02\\xf0!\\x9e\\x02\\xa2\\x02\\xd8\\x14\\xd3\\xa6\\x01\\xbf\\x03\\xf7\\x01R\\xed\\xbc\\x02\\xe5-\\x0b\\x84\\x06\\xe3\\x04\\xd9\\x02\\x82b\\xdf\\x02\\xd1\\x03\\xab\\xcf\\x02\\xadf\\x1e\\x87!\\xd1\\x03\\xe0F\\xd3\\x08\\x97\\x03\\xc6\\x02\\xb9\\x19\\xe8\\x1c\\x9c\\x02\\x969\\xd8\\x83\\x03\\x89\\x03\\xc7\\x19\\x95\\xa1\\x02\\x0b\\x89\\x03\\xcc\\x05\\xba\\x02\\xd4\\x06\\x8d\\t\\x82\\x14\\xbf\\x02\\xab\\x05\\x1e\\xfc\\x08\\xac\\x03\\xd3\\x08\\x97\\x03\\x81\\x02\\xef\\t\\xc2\\r\\xf3\\x0f\\xc3\\x06\\x1e\\xba\\x02\\xbf\\x03\\xf7\\x01C\\xb2\\x0e\\x9c\\x02\\xcc\\x08\\x96\\x04\\xc3\\x1c\\xbf\\x02\\xac\\x03\\r\\xd0\\x88\\x03\\xd0\\x03\\xac\\r\\xbe\\x02\\x86\\x02\\xd5\\x0c\\x9e\\x02\\x95\\xa0\\x01\\xbf\\xa5\\x01\\x0b\\xa2\\x02\\xd4\\x02\\xbe\\x02\\x81\\x02\\xd5\\x0c\\x9e\\x02\\xdf\\x16\\r\\x99\\x07\\xbf\\x03\\xf7\\x01\\x84\\x02\\x90\\x11\\xe3\\x1b\\xac\\x03\\x9f\\x02\\x81\\x02\\x9f\\xd2\\x02\\xb1j\\x8c\\x0c\\xfb\\x02\\x81\\x02\\x9d\\r\\xd9\\x02\\xd9*\\x0b\\x86;\\x83S\\x86\\x02\\xe1D\\x9c\\x02\\xfe\\x05\\xea\\x04\\xd4\\x02\\xbf\\x03\\xf7\\x01R\\x80\\x05\\x9c\\x02\\xd3\\x03\\xe0\\x05\\x9c\\x02\\x86\\x02\\xd3\\n\\xd9\\x02\\xcc\\x03\\xbf\\x03\\xf7\\x01S\\xf8)\\x9c\\x02\\xfe\\x05\\x86\\x02\\xdb\\x82\\x01\\xd9\\x02\\xcc\\x03\\xbf\\x03\\xf7\\x01S\\x96\\n\\r\\x95\\xa0\\x01\\xbf\\x03\\xf7\\x01R\\xa6d\\x0b\\xe0\\xf6\\x02\\xa6\\x03\\x86\\x02\\xba4\\x81!\\xd90\\x0b\\xe1\\x03\\x9a\\x8f\\x01\\xd9\\x02\\r\\xf8\\x04\\xe1\\x03\\x82\\xa7\\x02\\xd9\\x02\\xc6\\x02\\x81\\x02\\xc6\\x04\\xcc\\x03\\xe3:\\xfd\\x9e\\x01\\x0b\\xda\\x1d\\x81\\x02\\xba5\\xdd\\xef\\x01\\xcf\\t\\x828\\x0b\\x8b\\x05\\xeb\\x0c\\xbf\\x02\\x86\\x02\\xc8\\x06\\xa0\\x03\\x81\\x02\\xe3\\xe9\\x02\\xb2\\x02\\xa2\\x02\\xa8(\\xd0\\x05\\xb4\\x17\\x0b\\xbe\\x06\\x9f\\x02\\xbb\\x19\\xa8\\x04\\r\\xc6\\x01\\xc6\\x01!\\xc7T\\xbf\\xa5\\x01\\xb1\\x04\\x8d\\x08\\xf7\\x03\\xa6\\x03\\x80\\x05\\x9c\\x02\\x80\\x05\\xfb\\x02\\xa6\\x1e\\x8cs\\xd1J\\xb2\\x19\\x9f\\x02\\x87\\x8f\\x01\\r\\xb0%\\x9c\\x02\\xf0\\x1e\\x86&\\xdf\\x0e\\xbe\\x9b\\x01\\xaf\\xe7\\x01\\x0b\\x95\\xa0\\x01\\x8e\\x0b\\xbf\\x03\\xf7\\x01S\\x9e\\x05\\xe4\\x04\\x0b\\xdb\\x03\\xcef\\xe3\\x02\\x81\\x02\\xd0l\\xa2\\x02\\xf5\\x02\\xe8\\x1a\\xb4\\x04\\xfa\\x01\\xc0\\x03\\x9e\\x02\\xd1\\x03\\xb4\\x14\\r\\xbf\\x03\\xfb\\x01\\xbe\\x9b\\x01\\xaf\\xe7\\x01\\xa6\\x04\\x85\\x05\\xbb\\x19\\xbf\\x03\\xf7\\x01\\xecL\\xe8\\'\\x8c\\x06\\xd3\\x02\\x8e\\x0b\\xbf\\x03\\xf7\\x01S\\x9a\\x10\\x95\\xa0\\x01\\x99\\x02\\x8a3\\xa2\\x02\\xfb\\x04\\x0b\\x84\\x05\\xca\\x05\\xd3\\x03\\xd2\\x14\\xfb\\x02\\x81\\x02\\xe3\\xe9\\x02\\xb2\\x02\\xba5\\xf0\\x1e\\x1e\\xc6\\x01\\xc6\\x01\\x9a\\x11\\x81\\x02\\xfa\\xfe\\x02\\xbd\\x1a\\xd6\\x08\\x9f\\x02\\xf7!\\x0b\\x95\\xa0\\x01\\xe3\\xa8\\x01\\xe9\\x04\\xfd\\x9e\\x01\\r\\xa7\\x05\\xf5\\x02\\xad\\x0f\\x9c\\x02\\xa3!\\x81\\x02\\xa6m\\x9f\\x02\\x86\\x02\\xf0\\x1e\\x0b\\xa2\\x02\\xee\\x05\\x8b\\x04\\xd5\\x07\\xbe\\x9b\\x01\\xaf\\xe7\\x01\\x88\\xa6\\x01\\r\\xbe\\x9b\\x01\\xaf\\xe7\\x01\\xa0\\x0c\\x91\\n\\x81\\x02\\xbc\\'\\xc6\\x02\\xd3\\x02\\xa6\\x04\\x81\\\\\\x91\\n\\x95\\xa0\\x01\\x97\\x03\\x9c\\x02\\xa1\\x1d\\xd5\\x04\\x9e\\x02\\x86\\x02\\x86f\\r\\xff\\x02\\x86f\\xa3\\x04\\x9a@\\xd9\\xec\\x02\\x81\\xc9\\x01\\xa2\\x02\\xa3\\x04\\x97\\x03\\x9c\\x02\\xb3\\x02\\x85\\xbc\\x01\\r\\xc6\\x01\\xc6\\x01!\\xc7T\\xbf\\x03\\xf7\\x01R\\x9a\\n\\xbf\\x11\\xf5\\x02\\x81\\x02\\xd8\\x19\\x92\\x04\\x1a\\xd3\\x02\\xf4;\\xfe\\x03\\xe9\\x04\\x89\\x10\\xa2\\x02\\x98\\x0e\\x9c\\x02\\xa1\\x1d\\x86\\x02\\x86f\\r\\xe6p\\x9a@\\x86\\x02\\xa2\\x86\\x01\\x0b\\xf9\\x11\\x0b\\x86\\x02\\xa3\"\\xe3\\xe9\\x02\\xb2\\x02\\x9f\\x02\\x86\\x02\\xdd\\xef\\x01\\x0b\\xcaj\\x95\\xa0\\x01\\x9c\\x02\\x86\\x02\\x93\\x12\\x0b\\xb4\\x04\\xfa\\x01\\xb8\\x84\\x03\\xbf\\x02\\xab\\x05\\xa2\\x02\\xeb\\x0c\\xd1\\x03\\xd0\\t\\xa2\\x02\\x91\\x88\\x03\\r\\xbf\\x03\\xfb\\x01\\xd7G\\x9f\\x02\\xd0\\x0f\\x0b\\x95\\xa0\\x01\\xa6\\x04\\xe3\\xa8\\x01\\xdf,\\x0b\\x8b\\x04\\xac\\x03\\xfc\\t\\xa7\\x03\\xcb\\x04\\x92\\x04\\xae\\xb0\\x01\\x9e\\x02\\x81\\x02\\x9d\\x02\\xd6\\x13\\x96\\x02\\xc9\\x02\\xab\\x05\\r\\xc6\\x01\\xc6\\x01\\xa7{\\xcb]\\x0b\\x81\\x02\\xc2\\t\\xba5\\x0b\\xd9\\x0c\\x9c\\x02\\x95\\xa0\\x01\\xbf\\x03\\xf7\\x01R\\x88N\\xa2\\x02\\xeb\\x0c\\xf9\\x11\\r\\xf92\\x0b\\x9d\\x0f\\x9c\\x02\\xb1\\x1b\\xc6\\x02\\x95\\xa0\\x01\\xa6\\x04\\xe3\\xa8\\x01\\xdf,\\xee\\x06\\xd4\\x06\\x9c\\x9b\\x01\\xa6\\x03\\x81\\x02\\xba5\\xd8\\n\\xa0\\x03\\xaa\\t\\xba5\\r\\x95\\xa0\\x01\\xe4\\xe4\\x02\\xe3\\x05\\x99\\x02\\xc2(\\xa6m\\xaa\\x06\\xd3\\x02\\xf5\\x02\\xa0\\x0c\\x93\\x08\\xa0\\x03\\xdf\\x0e\\xbe\\x9b\\x01\\xaf\\xe7\\x01\\r\\xdf\\x0e\\xc0\\x89\\x01\\xbe1\\x95@\\xa2\\x02\\x95\\xa0\\x01\\xf5\\x02\\xe1\\x0cK\\xd3\\xa9\\x01\\x9c\\x02\\xc4b\\x8f\\x02\\xd2\\xb7\\x01\\xfa|\\xaeA\\x89\\x1a\\r\\xc6\\x01\\xc6\\x01\\xf4*\\xc4\\x06\\xbf\\x03\\xf7\\x01S\\x9c/\\xc6\\x02\\x95\\xa0\\x01\\xa6\\x04\\xe3\\xa8\\x01\\xdf,\\xee\\x06\\xd7\\x11\\x81\\x02\\xa0x\\xc23\\xc2\\x05\\xd4\\x06\\xd89\\xa0\\x03\\x81\\x02\\xba5\\r\\x82\\x06\\xf5\\x02\\xe7\\x12\\x86\\x02\\xd6\\x08\\xc9\\x02\\xea\\r\\r\\xbf\\xa5\\x01\\x0b\\xdb\\x03\\xd1\\x03\\x97E\\x8e\\x0b\\xbf\\x03\\xf7\\x01S\\xc5\\x11\\xe4\\x04\\r\\xc6\\x01\\xc6\\x01 \\xcf\\x83\\x01\\xbf\\x03\\xf7\\x01\\x93\\xb1\\x02\\x86\\x18\\x8a6\\x93\\x08\\xc6\\x02\\x95\\xa0\\x01\\xf5\\x02\\xc1\\xa4\\x01\\xa2\\x04\\xd0\\x05\\xb4\\x17\\x0b\\xbe\\x06\\xc9\\x02\\x86\\x02\\xf3\\x19\\xc0F\\xc6\\x02\\xa3\\x04\\x81\\x02\\xe7\\t\\x9e\\x02\\xd1\\x03\\x86\\'\\xd6\\x08\\r\\xdf\\x0e\\xbe\\x9b\\x01\\xaf\\xe7\\x01\\x958\\xc6\\x02\\xc9k\\x97\\x03\\xa1q\\xd4\\x06\\x99\\x02\\x8a3\\xa2\\x02\\x81\\\\\\xd4\\x06\\x91\\n\\x97\\x03\\x9c\\x02\\xa1\\x1d\\x86\\x02\\x86f\\x0b\\x95\\xa0\\x01\\xa6\\x04\\xe3\\xa8\\x01\\xfd\\x9e\\x01\\xc6\\x02\\xd6\\x08\\xa2\\x02\\xf5\\x02\\xfb\\x02\\xee>\\xc9\\x02\\xd1\\x03\\x82\\x07\\xa55\\r\\xc6\\x01\\xc6\\x01\\xd0\\x03\\xbb\\n\\xf5\\x02\\x9d\\x10\\x9c\\x02\\x86\\x02\\x87\\x8f\\x01\\xf1+\\x86\\x18\\xaa\\x06\\x81\\x02\\xbc\\'\\xa4\\x0b\\x95\\xa0\\x01\\xbf\\x03\\xf7\\x01R\\xbc\\x1f\\xb4\\x04\\xfa\\x01\\xabO\\x0cA\\xdcP\\xcf\\n\\xb2\\x02\\xd3B\\x0b\\xbf\\x03\\xfb\\x01\\xdb\\x03\\xdf\\x07\\xf0\\xc1\\x01\\x86\\x02\\x84\\x11\\x8a6\\xc6\\x02\\xd3\\x02\\xb3\\x02\\xcfX\\x86\\x02\\xbb\\x19\\xbf\\x03\\xf7\\x01\\xecL\\r\\xc6\\x01\\xc6\\x01!\\xc7T\\xbf\\xa5\\x01\\x0b\\x86\\x02\\xc5\\x0c\\xba;\\x98\\x08\\x97\\x0b\\r\\xc6\\x01\\xc6\\x01\\xdb\\x9e\\x02\\xf3\\x08\\x9d\\x02\\xd6\\x13\\x96\\x02\\x99\\'\\xa0\\x03\\x9e\\x05\\xa8\\x04\\xad\\x05\\x81\\xdf\\x01\\x81!\\xd90<\\xd0\\x88\\x03\\xd0\\x03\\x8c0\\xa2\\x02\\xa4Y\\xde\\xce\\x01\\xa6\\x04\\x81\\x02\\xb23\\xc4\\x08\\x9e\\x02\\xd7K\\xfb\\'\\xadE\\xd2\\x02\\xa5\\x14\\xe3\\x02\\xad\\\\\\xc9\\x02\\xad\\xda\\x01\\xce\\x08\\xf4\\\\\\xee\\n\\x8b\\x1c\\xfd\\xa8\\x02\\xael\\x0b\\x81\\x02\\xa0\\x8d\\x01\\x9e\\x05\\xd0\\'\\x0b\\xa2\\x02\\x81\\x02\\xe6i\\x9c\\x02\\xd8\\n\\xe1\\x15\\xb1\\xcc\\x01\\xe3\\x02\\xc1\\x05\\xf0\\x02\\xb2K\\xc5\\x03\\xd2\\x06\\x81X\\x06\\xce\\x0c\\xdb\\x8b\\x01\\r\\xc6\\x01\\xc6\\x01\\xcdL\\xc0\\x07\\x90\\x1e\\x8b\\x1d\\xc0\\x19\\x90\\x05\\xa2\\x05\\xb9F\\xa6\\x03\\x81\\x02\\xb0h\\xdb\\x1c\\xdd\\x03\\x9c\\r\\xcb\\x98\\x02\\x0b\\x8c0\\xf2\\x88\\x01\\x8a-\\xad\\xda\\x01\\xce\\x08\\xa6(\\x90\\x17\\xb2\\x02\\x9c\\x02\\x86\\x02\\xb8\\x03\\xaf\\x08\\x84\\x04\\xec\\x02\\xac\\x03\\xb1\\'\\xa5i\\xd4\\x02\\xd2\\x02\\xf5\\x1e\\x92\\xc1\\x01\\xe3\\x02\\x9c\\x02\\x86\\x02\\xda\\xf5\\x01\\x9e\\x02\\xad\\\\\\xd6_\\xadE\\xd2\\x02\\x86\\x15\\x9c\\x02\\xd9/\\xc7\\x18\\xb1H\\xc9\\x02\\xd9\\x08\\x90\\x1f\\r\\xff\\x02\\x8c0\\xa2\\x02\\xa4Y\\xde\\xce\\x01\\xa6\\x04\\x81\\x02\\xb23\\xc4\\x08\\x9e\\x02\\xd7K\\xfb\\'\\x86\\x02\\xbd\\x1b\\xf40\\xd2\\x02\\xe5\\x1f\\xee\\n\\x8b\\x1c\\xfd\\xa8\\x02\\xael\\x0b\\x81\\x02\\xa0\\x8d\\x01\\x9d9\\x9e\\x05\\xd0\\'\\x0b\\xa2\\x02\\xe6i\\x9c\\x02\\xd8\\n\\xe1\\x15\\xb1\\xcc\\x01', dtype=tf.int64, allow_missing=True, default_value=None)"
      ]
     },
     "execution_count": 9,
     "metadata": {},
     "output_type": "execute_result"
    }
   ],
   "source": [
    "tf.io.FixedLenSequenceFeature(d[0], dtype=tf.int64, allow_missing=True)"
   ]
  },
  {
   "cell_type": "code",
   "execution_count": 11,
   "metadata": {},
   "outputs": [
    {
     "name": "stdout",
     "output_type": "stream",
     "text": [
      "2062\n",
      "2062\n",
      "2043\n",
      "1994\n",
      "2035\n",
      "1986\n",
      "2032\n",
      "2064\n",
      "1976\n",
      "2047\n",
      "2065\n",
      "2051\n",
      "2049\n",
      "2044\n",
      "2032\n",
      "2070\n",
      "2028\n",
      "2050\n",
      "2052\n",
      "1997\n",
      "2043\n",
      "1982\n",
      "2025\n",
      "2048\n",
      "2031\n",
      "2040\n",
      "2039\n",
      "2022\n",
      "2049\n",
      "2061\n",
      "1965\n",
      "2026\n",
      "2027\n",
      "2055\n",
      "2017\n",
      "2011\n",
      "2025\n",
      "2026\n",
      "2056\n",
      "2034\n",
      "1968\n",
      "1998\n",
      "2006\n",
      "2057\n",
      "2071\n",
      "2013\n",
      "2089\n",
      "2058\n",
      "2038\n",
      "1982\n",
      "2056\n",
      "2037\n",
      "2084\n",
      "2021\n",
      "1999\n",
      "2019\n",
      "2026\n",
      "2011\n",
      "2082\n",
      "2000\n",
      "2039\n",
      "2056\n",
      "1984\n",
      "2076\n",
      "2054\n",
      "2027\n",
      "2048\n",
      "2073\n",
      "2020\n",
      "2023\n",
      "2065\n",
      "2021\n",
      "2066\n",
      "2017\n",
      "2079\n",
      "2043\n",
      "2070\n",
      "2035\n",
      "2083\n",
      "2040\n",
      "2016\n",
      "2074\n",
      "2032\n",
      "2008\n",
      "2014\n",
      "2037\n",
      "2024\n",
      "2052\n",
      "2006\n",
      "2047\n",
      "2059\n",
      "2044\n",
      "2014\n",
      "2066\n",
      "2033\n",
      "2043\n",
      "2044\n",
      "2053\n",
      "1995\n",
      "2040\n",
      "2028\n",
      "1951\n"
     ]
    }
   ],
   "source": [
    "for j, i in enumerate(d):\n",
    "    print(len(i))\n",
    "    if j > 100:\n",
    "        break"
   ]
  },
  {
   "cell_type": "code",
   "execution_count": null,
   "metadata": {},
   "outputs": [],
   "source": []
  },
  {
   "cell_type": "code",
   "execution_count": 11,
   "metadata": {},
   "outputs": [],
   "source": [
    "per_device_batch_size = 8"
   ]
  },
  {
   "cell_type": "code",
   "execution_count": 2,
   "metadata": {},
   "outputs": [
    {
     "name": "stderr",
     "output_type": "stream",
     "text": [
      "2025-01-20 06:40:04.555453: E external/local_xla/xla/stream_executor/cuda/cuda_fft.cc:477] Unable to register cuFFT factory: Attempting to register factory for plugin cuFFT when one has already been registered\n",
      "WARNING: All log messages before absl::InitializeLog() is called are written to STDERR\n",
      "E0000 00:00:1737355204.574016 2041080 cuda_dnn.cc:8310] Unable to register cuDNN factory: Attempting to register factory for plugin cuDNN when one has already been registered\n",
      "E0000 00:00:1737355204.579849 2041080 cuda_blas.cc:1418] Unable to register cuBLAS factory: Attempting to register factory for plugin cuBLAS when one has already been registered\n"
     ]
    }
   ],
   "source": [
    "import tensorflow as tf\n",
    "import numpy as np"
   ]
  },
  {
   "cell_type": "code",
   "execution_count": 3,
   "metadata": {},
   "outputs": [
    {
     "name": "stderr",
     "output_type": "stream",
     "text": [
      "I0000 00:00:1737355214.547069 2041080 gpu_device.cc:2022] Created device /job:localhost/replica:0/task:0/device:GPU:0 with 79078 MB memory:  -> device: 0, name: NVIDIA A100-SXM4-80GB, pci bus id: 0000:07:00.0, compute capability: 8.0\n",
      "I0000 00:00:1737355214.549377 2041080 gpu_device.cc:2022] Created device /job:localhost/replica:0/task:0/device:GPU:1 with 79078 MB memory:  -> device: 1, name: NVIDIA A100-SXM4-80GB, pci bus id: 0000:08:00.0, compute capability: 8.0\n",
      "I0000 00:00:1737355214.551452 2041080 gpu_device.cc:2022] Created device /job:localhost/replica:0/task:0/device:GPU:2 with 79078 MB memory:  -> device: 2, name: NVIDIA A100-SXM4-80GB, pci bus id: 0000:09:00.0, compute capability: 8.0\n",
      "I0000 00:00:1737355214.553456 2041080 gpu_device.cc:2022] Created device /job:localhost/replica:0/task:0/device:GPU:3 with 79078 MB memory:  -> device: 3, name: NVIDIA A100-SXM4-80GB, pci bus id: 0000:0a:00.0, compute capability: 8.0\n",
      "I0000 00:00:1737355214.555451 2041080 gpu_device.cc:2022] Created device /job:localhost/replica:0/task:0/device:GPU:4 with 79078 MB memory:  -> device: 4, name: NVIDIA A100-SXM4-80GB, pci bus id: 0000:0b:00.0, compute capability: 8.0\n",
      "I0000 00:00:1737355214.557496 2041080 gpu_device.cc:2022] Created device /job:localhost/replica:0/task:0/device:GPU:5 with 79078 MB memory:  -> device: 5, name: NVIDIA A100-SXM4-80GB, pci bus id: 0000:0c:00.0, compute capability: 8.0\n",
      "I0000 00:00:1737355214.559462 2041080 gpu_device.cc:2022] Created device /job:localhost/replica:0/task:0/device:GPU:6 with 79078 MB memory:  -> device: 6, name: NVIDIA A100-SXM4-80GB, pci bus id: 0000:0d:00.0, compute capability: 8.0\n",
      "I0000 00:00:1737355214.561468 2041080 gpu_device.cc:2022] Created device /job:localhost/replica:0/task:0/device:GPU:7 with 79078 MB memory:  -> device: 7, name: NVIDIA A100-SXM4-80GB, pci bus id: 0000:0e:00.0, compute capability: 8.0\n"
     ]
    }
   ],
   "source": [
    "data = np.load(\"data_dir/openwebtext_np_eval.npy\", allow_pickle=True)\n",
    "train_ds = tf.data.Dataset.from_tensor_slices({\"text\": data})"
   ]
  },
  {
   "cell_type": "code",
   "execution_count": 4,
   "metadata": {},
   "outputs": [
    {
     "ename": "NameError",
     "evalue": "name 'per_device_batch_size' is not defined",
     "output_type": "error",
     "traceback": [
      "\u001b[0;31m---------------------------------------------------------------------------\u001b[0m",
      "\u001b[0;31mNameError\u001b[0m                                 Traceback (most recent call last)",
      "Cell \u001b[0;32mIn[4], line 19\u001b[0m\n\u001b[1;32m     16\u001b[0m data \u001b[38;5;241m=\u001b[39m np\u001b[38;5;241m.\u001b[39mload(\u001b[38;5;124m\"\u001b[39m\u001b[38;5;124mdata_dir/openwebtext_np_eval.npy\u001b[39m\u001b[38;5;124m\"\u001b[39m, allow_pickle\u001b[38;5;241m=\u001b[39m\u001b[38;5;28;01mTrue\u001b[39;00m)\n\u001b[1;32m     17\u001b[0m train_ds \u001b[38;5;241m=\u001b[39m tf\u001b[38;5;241m.\u001b[39mdata\u001b[38;5;241m.\u001b[39mDataset\u001b[38;5;241m.\u001b[39mfrom_tensor_slices({\u001b[38;5;124m\"\u001b[39m\u001b[38;5;124mtext\u001b[39m\u001b[38;5;124m\"\u001b[39m: data})\n\u001b[0;32m---> 19\u001b[0m batch_dims \u001b[38;5;241m=\u001b[39m [jax\u001b[38;5;241m.\u001b[39mlocal_device_count(), \u001b[43mper_device_batch_size\u001b[49m]\n\u001b[1;32m     20\u001b[0m train_ds \u001b[38;5;241m=\u001b[39m train_ds\u001b[38;5;241m.\u001b[39mshuffle(buffer_size\u001b[38;5;241m=\u001b[39m\u001b[38;5;28mlen\u001b[39m(data))\n\u001b[1;32m     21\u001b[0m train_ds \u001b[38;5;241m=\u001b[39m train_ds\u001b[38;5;241m.\u001b[39mrepeat(\u001b[38;5;28;01mNone\u001b[39;00m)  \u001b[38;5;66;03m# Repeat infinitely\u001b[39;00m\n",
      "\u001b[0;31mNameError\u001b[0m: name 'per_device_batch_size' is not defined"
     ]
    }
   ],
   "source": [
    "import jax\n",
    "\n",
    "\n",
    "def apply_split(dataset, size, split):\n",
    "    start, end = split.indices(size)\n",
    "    split_ds = dataset.skip(start).take(end - start)\n",
    "    return split_ds\n",
    "\n",
    "\n",
    "def apply_split_with_sharding(dataset):\n",
    "    num_shards = jax.process_count()  # Total number of hosts\n",
    "    shard_index = jax.process_index()  # Index of the current host\n",
    "    return dataset.shard(num_shards=num_shards, index=shard_index)\n",
    "\n",
    "\n",
    "data = np.load(\"data_dir/openwebtext_np_eval.npy\", allow_pickle=True)\n",
    "train_ds = tf.data.Dataset.from_tensor_slices({\"text\": data})\n",
    "\n",
    "batch_dims = [jax.local_device_count(), per_device_batch_size]\n",
    "train_ds = train_ds.shuffle(buffer_size=len(data))\n",
    "train_ds = train_ds.repeat(None)  # Repeat infinitely\n",
    "train_ds = train_ds.batch(batch_dims[-1], drop_remainder=True)\n",
    "train_ds = train_ds.batch(batch_dims[-2], drop_remainder=True)\n",
    "train_ds = apply_split_with_sharding(train_ds)\n",
    "train_ds = train_ds.prefetch(tf.data.experimental.AUTOTUNE)"
   ]
  },
  {
   "cell_type": "code",
   "execution_count": 14,
   "metadata": {},
   "outputs": [],
   "source": []
  },
  {
   "cell_type": "code",
   "execution_count": 9,
   "metadata": {},
   "outputs": [
    {
     "data": {
      "text/plain": [
       "<_PrefetchDataset element_spec={'text': TensorSpec(shape=(1024,), dtype=tf.int64, name=None)}>"
      ]
     },
     "execution_count": 9,
     "metadata": {},
     "output_type": "execute_result"
    }
   ],
   "source": [
    "train_ds"
   ]
  },
  {
   "cell_type": "code",
   "execution_count": 15,
   "metadata": {},
   "outputs": [],
   "source": [
    "iterator = iter(train_ds)"
   ]
  },
  {
   "cell_type": "code",
   "execution_count": 16,
   "metadata": {},
   "outputs": [
    {
     "data": {
      "text/plain": [
       "{'text': <tf.Tensor: shape=(8, 8, 1024), dtype=int64, numpy=\n",
       " array([[[   11,  3199,   287, ...,   284,  7766,   262],\n",
       "         [   60,   198,   198, ...,  1218,  2779,  8302],\n",
       "         [  326,   257,  1793, ..., 11710,   286, 43142],\n",
       "         ...,\n",
       "         [ 1168,   290, 27775, ...,   351,   262,  1109],\n",
       "         [  284, 23875,   262, ...,   572,   663, 43360],\n",
       "         [15800,   546, 34639, ...,   290,  9949,   286]],\n",
       " \n",
       "        [[ 6490,  6487,   290, ...,   830,   318,  3221],\n",
       "         [  447,   247,    82, ...,   587,  9141,   416],\n",
       "         [19328,   422,   262, ...,  3450,   286,   262],\n",
       "         ...,\n",
       "         [ 2087,   850,  1845, ...,  1906, 27277,    11],\n",
       "         [   11, 12551,    11, ...,    65, 42568,     1],\n",
       "         [  470, 12274,   503, ..., 21953,  1637,   447]],\n",
       " \n",
       "        [[ 5122,  2524,   318, ..., 45472,   290,   663],\n",
       "         [14731,  4176,    11, ...,  9329,    88, 12735],\n",
       "         [ 1494,  1605,  4290, ...,   244,   318,   262],\n",
       "         ...,\n",
       "         [   13,   383, 14023, ...,  6635,  8718,    65],\n",
       "         [15918, 49524,   447, ...,  4281,  5871, 27120],\n",
       "         [  132,   249,    72, ..., 12816,   318,  7981]],\n",
       " \n",
       "        ...,\n",
       " \n",
       "        [[ 1334,   286,   465, ...,   284, 10112,  3956],\n",
       "         [  314,  1612, 35677, ...,  3377,   262,  1306],\n",
       "         [  477,  3033,   286, ...,  2446,   543,   555],\n",
       "         ...,\n",
       "         [  268, 15629,    22, ..., 26489,   355,   257],\n",
       "         [  257,  1643,    13, ...,   760,   326, 23467],\n",
       "         [ 3025,   308,   454, ...,    82,   644,   356]],\n",
       " \n",
       "        [[   49,   864,   396, ...,   171,   224,   228],\n",
       "         [ 1881,  1917, 16019, ...,   379,   257,   905],\n",
       "         [   12,  1065,    13, ...,  4539,   503,    13],\n",
       "         ...,\n",
       "         [  368, 34168,   828, ...,  1996,   997,  2764],\n",
       "         [31071,   329,   262, ...,   286,   281,  8178],\n",
       "         [  290,   281,  2354, ...,   340, 18969,   284]],\n",
       " \n",
       "        [[  290, 36102, 34886, ...,    13,   447,   251],\n",
       "         [   13,   198,   198, ...,  4158,  9056,    13],\n",
       "         [  286,  5073,  2605, ...,  7869,   329,   262],\n",
       "         ...,\n",
       "         [   13,   564,   250, ...,    13,   198,   198],\n",
       "         [  262,  3833,    13, ..., 20828,  5674,   375],\n",
       "         [38274,  2346,   373, ...,   340,  2058,   284]]])>}"
      ]
     },
     "execution_count": 16,
     "metadata": {},
     "output_type": "execute_result"
    },
    {
     "ename": "",
     "evalue": "",
     "output_type": "error",
     "traceback": [
      "\u001b[1;31mThe Kernel crashed while executing code in the current cell or a previous cell. \n",
      "\u001b[1;31mPlease review the code in the cell(s) to identify a possible cause of the failure. \n",
      "\u001b[1;31mClick <a href='https://aka.ms/vscodeJupyterKernelCrash'>here</a> for more info. \n",
      "\u001b[1;31mView Jupyter <a href='command:jupyter.viewOutput'>log</a> for further details."
     ]
    }
   ],
   "source": [
    "iterator.next()"
   ]
  },
  {
   "cell_type": "code",
   "execution_count": null,
   "metadata": {},
   "outputs": [],
   "source": []
  }
 ],
 "metadata": {
  "kernelspec": {
   "display_name": "md4-venv",
   "language": "python",
   "name": "python3"
  },
  "language_info": {
   "codemirror_mode": {
    "name": "ipython",
    "version": 3
   },
   "file_extension": ".py",
   "mimetype": "text/x-python",
   "name": "python",
   "nbconvert_exporter": "python",
   "pygments_lexer": "ipython3",
   "version": "3.10.16"
  }
 },
 "nbformat": 4,
 "nbformat_minor": 2
}
